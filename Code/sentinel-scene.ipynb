{
 "cells": [
  {
   "cell_type": "code",
   "execution_count": 59,
   "metadata": {},
   "outputs": [],
   "source": [
    "import sentinelhub\n",
    "import sh_credentials"
   ]
  },
  {
   "cell_type": "code",
   "execution_count": 63,
   "metadata": {},
   "outputs": [],
   "source": [
    "#Get credentials for sentinel hub\n",
    "instance_id = sh_credentials.instance_id\n",
    "sh_client_secret = sh_credentials.sh_client_secret\n",
    "client_id = sh_credentials.sh_client_id"
   ]
  },
  {
   "cell_type": "code",
   "execution_count": null,
   "metadata": {},
   "outputs": [],
   "source": [
    "#Connect to Sentinel Hub\n",
    "from sentinelhub import SHConfig\n",
    "\n",
    "config = SHConfig()"
   ]
  }
 ],
 "metadata": {
  "kernelspec": {
   "display_name": "Python 3.7.1 ('base')",
   "language": "python",
   "name": "python3"
  },
  "language_info": {
   "codemirror_mode": {
    "name": "ipython",
    "version": 3
   },
   "file_extension": ".py",
   "mimetype": "text/x-python",
   "name": "python",
   "nbconvert_exporter": "python",
   "pygments_lexer": "ipython3",
   "version": "3.7.1"
  },
  "orig_nbformat": 4,
  "vscode": {
   "interpreter": {
    "hash": "44fb433fc5a70e03ee161613a90e9a8735bd905e4fa73a9b917c75135d97c443"
   }
  }
 },
 "nbformat": 4,
 "nbformat_minor": 2
}
