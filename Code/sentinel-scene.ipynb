{
 "cells": [
  {
   "cell_type": "code",
   "execution_count": 69,
   "metadata": {},
   "outputs": [],
   "source": [
    "import os\n",
    "import datetime\n",
    "import numpy as np\n",
    "import matplotlib.pyplot as plt\n",
    "\n",
    "from sentinelhub import (\n",
    "    SHConfig,\n",
    "    MimeType,\n",
    "    CRS,\n",
    "    BBox,\n",
    "    SentinelHubRequest,\n",
    "    SentinelHubDownloadClient,\n",
    "    DataCollection,\n",
    "    bbox_to_dimensions,\n",
    "    DownloadRequest\n",
    ")\n",
    "\n",
    "import sh_credentials\n",
    "from utils import plot_image"
   ]
  },
  {
   "cell_type": "code",
   "execution_count": 70,
   "metadata": {},
   "outputs": [],
   "source": [
    "#Connect to Sentinel Hub\n",
    "config = SHConfig()\n",
    "\n",
    "#Use sh_credentials in the config\n",
    "config.instance_id = sh_credentials.instance_id\n",
    "config.sh_client_id = sh_credentials.sh_client_id\n",
    "config.sh_client_secret = sh_credentials.sh_client_secret"
   ]
  },
  {
   "cell_type": "markdown",
   "metadata": {},
   "source": [
    "Found bbox of Zion:\n",
    "http://bboxfinder.com/#37.161512,-113.167419,37.328589,-112.888298"
   ]
  },
  {
   "cell_type": "code",
   "execution_count": 73,
   "metadata": {},
   "outputs": [
    {
     "name": "stdout",
     "output_type": "stream",
     "text": [
      "Image shape at 10 m resolution: (2516, 1801) pixels\n"
     ]
    }
   ],
   "source": [
    "#Define bbox\n",
    "#EPSG 4326, WGS 84\n",
    "zion_coords = [-113.167419,37.161512,-112.888298,37.328589]\n",
    "\n",
    "#Define the resolution and extents of the bbox\n",
    "resolution = 10\n",
    "zion_bbox = BBox(bbox=zion_coords, crs=CRS.WGS84)\n",
    "zion_size = bbox_to_dimensions(zion_bbox, resolution=resolution)\n",
    "\n",
    "print(f\"Image shape at {resolution} m resolution: {zion_size} pixels\")"
   ]
  }
 ],
 "metadata": {
  "kernelspec": {
   "display_name": "Python 3.7.1 ('base')",
   "language": "python",
   "name": "python3"
  },
  "language_info": {
   "codemirror_mode": {
    "name": "ipython",
    "version": 3
   },
   "file_extension": ".py",
   "mimetype": "text/x-python",
   "name": "python",
   "nbconvert_exporter": "python",
   "pygments_lexer": "ipython3",
   "version": "3.7.1"
  },
  "orig_nbformat": 4,
  "vscode": {
   "interpreter": {
    "hash": "44fb433fc5a70e03ee161613a90e9a8735bd905e4fa73a9b917c75135d97c443"
   }
  }
 },
 "nbformat": 4,
 "nbformat_minor": 2
}
