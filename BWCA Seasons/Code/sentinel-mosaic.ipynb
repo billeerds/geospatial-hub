{
 "cells": [
  {
   "cell_type": "code",
   "execution_count": 2,
   "metadata": {},
   "outputs": [
    {
     "name": "stderr",
     "output_type": "stream",
     "text": [
      "c:\\Users\\wjeer\\Anaconda3\\lib\\site-packages\\requests\\__init__.py:114: RequestsDependencyWarning: urllib3 (1.26.9) or chardet (5.0.0)/charset_normalizer (2.0.12) doesn't match a supported version!\n",
      "  RequestsDependencyWarning,\n"
     ]
    }
   ],
   "source": [
    "import os\n",
    "import datetime\n",
    "import numpy as np\n",
    "import matplotlib.pyplot as plt\n",
    "\n",
    "from sentinelhub import (\n",
    "    SHConfig,\n",
    "    MimeType,\n",
    "    CRS,\n",
    "    BBox,\n",
    "    SentinelHubRequest,\n",
    "    SentinelHubDownloadClient,\n",
    "    DataCollection,\n",
    "    bbox_to_dimensions,\n",
    "    DownloadRequest,\n",
    "    Geometry,\n",
    "    filter_times,\n",
    "    MosaickingOrder,\n",
    "    SentinelHubCatalog\n",
    ")\n",
    "\n",
    "import sh_credentials\n",
    "from utils import plot_image"
   ]
  },
  {
   "cell_type": "code",
   "execution_count": 3,
   "metadata": {},
   "outputs": [],
   "source": [
    "#Connect to Sentinel Hub\n",
    "config = SHConfig()\n",
    "\n",
    "#Use sh_credentials in the config\n",
    "config.instance_id = sh_credentials.instance_id\n",
    "config.sh_client_id = sh_credentials.sh_client_id\n",
    "config.sh_client_secret = sh_credentials.sh_client_secret"
   ]
  },
  {
   "cell_type": "markdown",
   "metadata": {},
   "source": [
    "Found bbox of Zion:\n",
    "http://bboxfinder.com/#37.161512,-113.167419,37.328589,-112.888298"
   ]
  },
  {
   "cell_type": "code",
   "execution_count": 4,
   "metadata": {},
   "outputs": [
    {
     "name": "stdout",
     "output_type": "stream",
     "text": [
      "Image shape at 10 m resolution: (1881, 1593) pixels\n"
     ]
    }
   ],
   "source": [
    "#Define bbox\n",
    "#EPSG 4326, WGS 84\n",
    "zion_coords = [-113.128967,37.164474,-112.920914,37.311603]\n",
    "\n",
    "#contrails example\n",
    "#zion_coords = [-113.084129,37.217211,-113.049110,37.250030]\n",
    "\n",
    "#Define the resolution and extents of the bbox\n",
    "resolution = 10\n",
    "zion_bbox = BBox(bbox=zion_coords, crs=CRS.WGS84)\n",
    "zion_size = bbox_to_dimensions(zion_bbox, resolution=resolution)\n",
    "\n",
    "print(f\"Image shape at {resolution} m resolution: {zion_size} pixels\")"
   ]
  }
 ],
 "metadata": {
  "kernelspec": {
   "display_name": "Python 3.7.1 ('base')",
   "language": "python",
   "name": "python3"
  },
  "language_info": {
   "codemirror_mode": {
    "name": "ipython",
    "version": 3
   },
   "file_extension": ".py",
   "mimetype": "text/x-python",
   "name": "python",
   "nbconvert_exporter": "python",
   "pygments_lexer": "ipython3",
   "version": "3.7.1"
  },
  "orig_nbformat": 4,
  "vscode": {
   "interpreter": {
    "hash": "44fb433fc5a70e03ee161613a90e9a8735bd905e4fa73a9b917c75135d97c443"
   }
  }
 },
 "nbformat": 4,
 "nbformat_minor": 2
}
